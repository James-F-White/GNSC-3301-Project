{
 "cells": [
  {
   "cell_type": "code",
   "execution_count": null,
   "id": "fe18c276-e967-4e00-aab6-de4d0dd8b8c5",
   "metadata": {},
   "outputs": [],
   "source": [
    "Title: Amino Acid Quiz Project"
   ]
  },
  {
   "cell_type": "markdown",
   "id": "4f86027d-2d7e-416c-8378-8ef956204c86",
   "metadata": {},
   "source": []
  },
  {
   "cell_type": "markdown",
   "id": "eacafbea-eddf-4b30-b81e-93bae3d902ae",
   "metadata": {},
   "source": [
    "Devons Domain\n",
    "This is the code block where I will make the web interface where the person can interact with the quiz by clicking correct or incorrect answers."
   ]
  },
  {
   "cell_type": "code",
   "execution_count": null,
   "id": "cec2e1bc-bed1-4672-ba6d-dfb602380aea",
   "metadata": {},
   "outputs": [],
   "source": [
    "Trey's space\n",
    "    My (Trey) responsibility for our group project will to create the Amino Acid dictionary containg the names and corresponding imagines for them."
   ]
  },
  {
   "cell_type": "code",
   "execution_count": null,
   "id": "d1e67ebd-3b81-4f79-868f-55a2ab1b7417",
   "metadata": {},
   "outputs": [],
   "source": [
    "# Trey's Space\n",
    "# code block for the Amino Acid dictionary\n",
    "# using already established quizs as "
   ]
  },
  {
   "cell_type": "code",
   "execution_count": 1,
   "id": "97d238f3-7a26-48a8-9925-eddd70f6c502",
   "metadata": {
    "tags": []
   },
   "outputs": [],
   "source": [
    "#Nathan Area: This is the code block where I will create the question that is asked (ie what is x amino acid) and have the multiple options laid out during each question.  "
   ]
  }
 ],
 "metadata": {
  "kernelspec": {
   "display_name": "Python 3 (ipykernel)",
   "language": "python",
   "name": "python3"
  },
  "language_info": {
   "codemirror_mode": {
    "name": "ipython",
    "version": 3
   },
   "file_extension": ".py",
   "mimetype": "text/x-python",
   "name": "python",
   "nbconvert_exporter": "python",
   "pygments_lexer": "ipython3",
   "version": "3.11.0"
  }
 },
 "nbformat": 4,
 "nbformat_minor": 5
}
