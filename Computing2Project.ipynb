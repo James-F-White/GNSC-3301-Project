{
 "cells": [
  {
   "cell_type": "code",
   "execution_count": 32,
   "id": "fe18c276-e967-4e00-aab6-de4d0dd8b8c5",
   "metadata": {},
   "outputs": [],
   "source": [
    "#Title: Amino Acid Quiz Project"
   ]
  },
  {
   "cell_type": "code",
   "execution_count": 33,
   "id": "9520157c-505d-45db-a5ea-0927f535cc73",
   "metadata": {},
   "outputs": [],
   "source": [
    "#Devons Domain\n",
    "#This is the code block where I will make the web interface where the person can interact with the quiz by clicking correct or incorrect answers."
   ]
  },
  {
   "cell_type": "code",
   "execution_count": 34,
   "id": "cec2e1bc-bed1-4672-ba6d-dfb602380aea",
   "metadata": {},
   "outputs": [],
   "source": [
    "#Trey's space\n",
    "    #My (Trey) responsibili1ty for our group project will to create the Amino Acid dictionary containg the names and corresponding imagines for them."
   ]
  },
  {
   "cell_type": "code",
   "execution_count": 35,
   "id": "2b17307d-5068-44f7-b42a-508215de6e8c",
   "metadata": {},
   "outputs": [],
   "source": [
    "from PIL import Image\n",
    "import os\n",
    "import random\n"
   ]
  },
  {
   "cell_type": "code",
   "execution_count": 36,
   "id": "d1e67ebd-3b81-4f79-868f-55a2ab1b7417",
   "metadata": {},
   "outputs": [],
   "source": [
    "# Trey's Space\n",
    "# Define a dictionary to store the amino acids and their images\n",
    "amino_acids = {\n",
    "    'alanine': {'letter': 'A', 'image': 'alanine.gif', 'name': 'Alanine'},\n",
    "    'arginine': {'letter': 'R', 'image': 'arginine.gif', 'name': 'Arginine'},\n",
    "    'asparagine': {'letter': 'N', 'image': 'asparagine.gif', 'name': 'Asparagine'},\n",
    "    'aspartic acid': {'letter': 'D', 'image': 'aspartic_acid.gif', 'name': 'Aspartic acid'},\n",
    "    'cysteine': {'letter': 'C', 'image': 'cysteine.gif', 'name': 'Cysteine'},\n",
    "    'glutamic acid': {'letter': 'E', 'image': 'glutamic_acid.gif', 'name': 'Glutamic acid'},\n",
    "    'glutamine': {'letter': 'Q', 'image': 'glutamine.gif', 'name': 'Glutamine'},\n",
    "    'glycine': {'letter': 'G', 'image': 'glycine.gif', 'name': 'Glycine'},\n",
    "    'histidine': {'letter': 'H', 'image': 'histidine.gif', 'name': 'Histidine'},\n",
    "    'isoleucine': {'letter': 'I', 'image': 'isoleucine.gif', 'name': 'Isoleucine'},\n",
    "    'leucine': {'letter': 'L', 'image': 'leucine.gif', 'name': 'Leucine'},\n",
    "    'lysine': {'letter': 'K', 'image': 'lysine.gif', 'name': 'Lysine'},\n",
    "    'methionine': {'letter': 'M', 'image': 'methionine.gif', 'name': 'Methionine'},\n",
    "    'phenylalanine': {'letter': 'F', 'image': 'phenylalanine.gif', 'name': 'Phenylalanine'},\n",
    "    'proline': {'letter': 'P', 'image': 'proline.gif', 'name': 'Proline'},\n",
    "    'serine': {'letter': 'S', 'image': 'serine.gif', 'name': 'Serine'},\n",
    "    'threonine': {'letter': 'T', 'image': 'threonine.gif', 'name': 'Threonine'},\n",
    "    'tryptophan': {'letter': 'W', 'image': 'tryptophan.gif', 'name': 'Tryptophan'},\n",
    "    'tyrosine': {'letter': 'Y', 'image': 'tyrosine.gif', 'name': 'Tryosine'},\n",
    "    'valine': {'letter': 'V', 'image': 'valine.gif','name': 'Valine'}\n",
    "}\n",
    "# using already established quizs as "
   ]
  },
  {
   "cell_type": "code",
   "execution_count": 37,
   "id": "97d238f3-7a26-48a8-9925-eddd70f6c502",
   "metadata": {
    "tags": []
   },
   "outputs": [],
   "source": [
    "#Nathan Area: This is the code block where I will create the question that is asked (ie what is x amino acid) and have the multiple options laid out during each question.\n",
    "    #Katie's Realm\n",
    "#My role in this project will be to create a function that will randomize the answer choices and the order of the questions asked."
   ]
  },
  {
   "cell_type": "code",
   "execution_count": 38,
   "id": "50a8f32d-1719-4252-9c58-09be03b0c837",
   "metadata": {},
   "outputs": [],
   "source": [
    "# Nathan Space\n",
    "# Define a function to ask a question and get the user's answer\n",
    "def ask_question(question, answer):\n",
    "    user_answer = input(question + '\\n')\n",
    "    if user_answer.lower() == answer.lower():\n",
    "        print('Correct!')\n",
    "        return True\n",
    "    else:\n",
    "        print('Incorrect. The correct answer is', answer)\n",
    "        return False"
   ]
  },
  {
   "cell_type": "code",
   "execution_count": 39,
   "id": "8f549dc1-767f-47d1-80be-a1cca562f963",
   "metadata": {
    "tags": []
   },
   "outputs": [
    {
     "name": "stdout",
     "output_type": "stream",
     "text": [
      "What is the name for the amino acid structure ?\n"
     ]
    },
    {
     "name": "stdin",
     "output_type": "stream",
     "text": [
      "\n",
      " d\n"
     ]
    },
    {
     "name": "stdout",
     "output_type": "stream",
     "text": [
      "Incorrect. The correct answer is Asparagine\n",
      "\n",
      "What is the name for the amino acid structure ?\n"
     ]
    },
    {
     "name": "stdin",
     "output_type": "stream",
     "text": [
      "\n",
      " d\n"
     ]
    },
    {
     "name": "stdout",
     "output_type": "stream",
     "text": [
      "Incorrect. The correct answer is Phenylalanine\n",
      "\n",
      "What is the name for the amino acid structure ?\n"
     ]
    },
    {
     "name": "stdin",
     "output_type": "stream",
     "text": [
      "\n",
      " d\n"
     ]
    },
    {
     "name": "stdout",
     "output_type": "stream",
     "text": [
      "Incorrect. The correct answer is Proline\n",
      "\n",
      "What is the name for the amino acid structure ?\n"
     ]
    },
    {
     "name": "stdin",
     "output_type": "stream",
     "text": [
      "\n",
      " dl\n"
     ]
    },
    {
     "name": "stdout",
     "output_type": "stream",
     "text": [
      "Incorrect. The correct answer is Glutamine\n",
      "\n",
      "What is the name for the amino acid structure ?\n"
     ]
    },
    {
     "name": "stdin",
     "output_type": "stream",
     "text": [
      "\n",
      " dl\n"
     ]
    },
    {
     "name": "stdout",
     "output_type": "stream",
     "text": [
      "Incorrect. The correct answer is Lysine\n",
      "\n",
      "What is the name for the amino acid structure ?\n"
     ]
    },
    {
     "name": "stdin",
     "output_type": "stream",
     "text": [
      "\n",
      " kd\n"
     ]
    },
    {
     "name": "stdout",
     "output_type": "stream",
     "text": [
      "Incorrect. The correct answer is Isoleucine\n",
      "\n",
      "What is the name for the amino acid structure ?\n"
     ]
    },
    {
     "name": "stdin",
     "output_type": "stream",
     "text": [
      "\n",
      " jd\n"
     ]
    },
    {
     "name": "stdout",
     "output_type": "stream",
     "text": [
      "Incorrect. The correct answer is Histidine\n",
      "\n",
      "What is the name for the amino acid structure ?\n"
     ]
    },
    {
     "name": "stdin",
     "output_type": "stream",
     "text": [
      "\n",
      " dj\n"
     ]
    },
    {
     "name": "stdout",
     "output_type": "stream",
     "text": [
      "Incorrect. The correct answer is Arginine\n",
      "\n",
      "What is the name for the amino acid structure ?\n"
     ]
    },
    {
     "name": "stdin",
     "output_type": "stream",
     "text": [
      "\n",
      " dk\n"
     ]
    },
    {
     "name": "stdout",
     "output_type": "stream",
     "text": [
      "Incorrect. The correct answer is Leucine\n",
      "\n",
      "What is the name for the amino acid structure ?\n"
     ]
    },
    {
     "name": "stdin",
     "output_type": "stream",
     "text": [
      "\n",
      " jd\n"
     ]
    },
    {
     "name": "stdout",
     "output_type": "stream",
     "text": [
      "Incorrect. The correct answer is Glutamic acid\n",
      "\n",
      "What is the name for the amino acid structure ?\n"
     ]
    },
    {
     "name": "stdin",
     "output_type": "stream",
     "text": [
      "\n",
      " kd\n"
     ]
    },
    {
     "name": "stdout",
     "output_type": "stream",
     "text": [
      "Incorrect. The correct answer is Valine\n",
      "\n",
      "What is the name for the amino acid structure ?\n"
     ]
    },
    {
     "name": "stdin",
     "output_type": "stream",
     "text": [
      "\n",
      " jd\n"
     ]
    },
    {
     "name": "stdout",
     "output_type": "stream",
     "text": [
      "Incorrect. The correct answer is Cysteine\n",
      "\n",
      "What is the name for the amino acid structure ?\n"
     ]
    },
    {
     "name": "stdin",
     "output_type": "stream",
     "text": [
      "\n",
      " jd\n"
     ]
    },
    {
     "name": "stdout",
     "output_type": "stream",
     "text": [
      "Incorrect. The correct answer is Serine\n",
      "\n",
      "What is the name for the amino acid structure ?\n"
     ]
    },
    {
     "name": "stdin",
     "output_type": "stream",
     "text": [
      "\n",
      " jd\n"
     ]
    },
    {
     "name": "stdout",
     "output_type": "stream",
     "text": [
      "Incorrect. The correct answer is Methionine\n",
      "\n",
      "What is the name for the amino acid structure ?\n"
     ]
    },
    {
     "name": "stdin",
     "output_type": "stream",
     "text": [
      "\n",
      " kd\n"
     ]
    },
    {
     "name": "stdout",
     "output_type": "stream",
     "text": [
      "Incorrect. The correct answer is Tryosine\n",
      "\n",
      "What is the name for the amino acid structure ?\n"
     ]
    },
    {
     "name": "stdin",
     "output_type": "stream",
     "text": [
      "\n",
      " kd\n"
     ]
    },
    {
     "name": "stdout",
     "output_type": "stream",
     "text": [
      "Incorrect. The correct answer is Alanine\n",
      "\n",
      "What is the name for the amino acid structure ?\n"
     ]
    },
    {
     "name": "stdin",
     "output_type": "stream",
     "text": [
      "\n",
      " jd\n"
     ]
    },
    {
     "name": "stdout",
     "output_type": "stream",
     "text": [
      "Incorrect. The correct answer is Aspartic acid\n",
      "\n",
      "What is the name for the amino acid structure ?\n"
     ]
    },
    {
     "name": "stdin",
     "output_type": "stream",
     "text": [
      "\n",
      " kd\n"
     ]
    },
    {
     "name": "stdout",
     "output_type": "stream",
     "text": [
      "Incorrect. The correct answer is Threonine\n",
      "\n",
      "What is the name for the amino acid structure ?\n"
     ]
    },
    {
     "name": "stdin",
     "output_type": "stream",
     "text": [
      "\n",
      " d\n"
     ]
    },
    {
     "name": "stdout",
     "output_type": "stream",
     "text": [
      "Incorrect. The correct answer is Glycine\n",
      "\n",
      "What is the name for the amino acid structure ?\n"
     ]
    },
    {
     "name": "stdin",
     "output_type": "stream",
     "text": [
      "\n",
      " kd\n"
     ]
    },
    {
     "name": "stdout",
     "output_type": "stream",
     "text": [
      "Incorrect. The correct answer is Tryptophan\n",
      "\n",
      "Quiz complete. You scored 0 out of 20\n"
     ]
    }
   ],
   "source": [
    "#Devon's relocated domain\n",
    "# Define the quiz function\n",
    "def amino_acid_quiz():\n",
    "    score = 0\n",
    "    amino_acids_list = list(amino_acids.keys())\n",
    "    random.shuffle(amino_acids_list)\n",
    "    for amino_acid in amino_acids_list:\n",
    "        print('What is the name for the amino acid structure ?')\n",
    "        image_path = os.path.join(os.getcwd(), 'amino_acid_structures', amino_acids[amino_acid]['image'])\n",
    "        image = Image.open(image_path)\n",
    "        image.show()\n",
    "        if ask_question('', amino_acids[amino_acid]['name']):\n",
    "            score+= 1 \n",
    "        print()\n",
    "    print('Quiz complete. You scored', score, 'out of', len(amino_acids))\n",
    "\n",
    "amino_acid_quiz()"
   ]
  },
  {
   "cell_type": "code",
   "execution_count": null,
   "id": "9c9fe1a3-e4fd-4ba9-ac53-e20f81f8ff75",
   "metadata": {},
   "outputs": [],
   "source": []
  }
 ],
 "metadata": {
  "kernelspec": {
   "display_name": "Python 3 (ipykernel)",
   "language": "python",
   "name": "python3"
  },
  "language_info": {
   "codemirror_mode": {
    "name": "ipython",
    "version": 3
   },
   "file_extension": ".py",
   "mimetype": "text/x-python",
   "name": "python",
   "nbconvert_exporter": "python",
   "pygments_lexer": "ipython3",
   "version": "3.11.0"
  }
 },
 "nbformat": 4,
 "nbformat_minor": 5
}
