{
 "cells": [
  {
   "cell_type": "code",
   "execution_count": 57,
   "id": "fe18c276-e967-4e00-aab6-de4d0dd8b8c5",
   "metadata": {},
   "outputs": [],
   "source": [
    "#Title: Amino Acid Quiz Project"
   ]
  },
  {
   "cell_type": "code",
   "execution_count": 58,
   "id": "9520157c-505d-45db-a5ea-0927f535cc73",
   "metadata": {
    "tags": []
   },
   "outputs": [],
   "source": [
    "#Devons Domain\n",
    "#This is the code block where I will make the web interface where the person can interact with the quiz by clicking correct or incorrect answers."
   ]
  },
  {
   "cell_type": "code",
   "execution_count": 59,
   "id": "cec2e1bc-bed1-4672-ba6d-dfb602380aea",
   "metadata": {},
   "outputs": [],
   "source": [
    "#Trey's space\n",
    "    #My (Trey) responsibili1ty for our group project will to create the Amino Acid dictionary containg the names and corresponding imagines for them."
   ]
  },
  {
   "cell_type": "code",
   "execution_count": 60,
   "id": "2b17307d-5068-44f7-b42a-508215de6e8c",
   "metadata": {},
   "outputs": [],
   "source": [
    "from PIL import Image\n",
    "import os\n",
    "import random\n",
    "# climage doesn't come with python, need to enter 'pip install climage'\n",
    "import climage"
   ]
  },
  {
   "cell_type": "code",
   "execution_count": 61,
   "id": "d1e67ebd-3b81-4f79-868f-55a2ab1b7417",
   "metadata": {},
   "outputs": [],
   "source": [
    "# Trey's Space\n",
    "# Define a dictionary to store the amino acids and their images\n",
    "amino_acids = {\n",
    "    'alanine': {'letter': 'A', 'image': 'alanine.jpeg', 'name': 'Alanine'},\n",
    "    'arginine': {'letter': 'R', 'image': 'arginine.jpeg', 'name': 'Arginine'},\n",
    "    'asparagine': {'letter': 'N', 'image': 'asparagine.jpeg', 'name': 'Asparagine'},\n",
    "    'aspartic acid': {'letter': 'D', 'image': 'aspartic_acid.jpeg', 'name': 'Aspartic acid'},\n",
    "    'cysteine': {'letter': 'C', 'image': 'cysteine.jpeg', 'name': 'Cysteine'},\n",
    "    'glutamic acid': {'letter': 'E', 'image': 'glutamic_acid.jpeg', 'name': 'Glutamic acid'},\n",
    "    'glutamine': {'letter': 'Q', 'image': 'glutamine.jpeg', 'name': 'Glutamine'},\n",
    "    'glycine': {'letter': 'G', 'image': 'glycine.jpeg', 'name': 'Glycine'},\n",
    "    'histidine': {'letter': 'H', 'image': 'histidine.jpeg', 'name': 'Histidine'},\n",
    "    'isoleucine': {'letter': 'I', 'image': 'isoleucine.jpeg', 'name': 'Isoleucine'},\n",
    "    'leucine': {'letter': 'L', 'image': 'leucine.jpeg', 'name': 'Leucine'},\n",
    "    'lysine': {'letter': 'K', 'image': 'lysine.jpeg', 'name': 'Lysine'},\n",
    "    'methionine': {'letter': 'M', 'image': 'methionine.jpeg', 'name': 'Methionine'},\n",
    "    'phenylalanine': {'letter': 'F', 'image': 'phenylalanine.jpeg', 'name': 'Phenylalanine'},\n",
    "    'proline': {'letter': 'P', 'image': 'proline.jpeg', 'name': 'Proline'},\n",
    "    'serine': {'letter': 'S', 'image': 'serine.jpeg', 'name': 'Serine'},\n",
    "    'threonine': {'letter': 'T', 'image': 'threonine.jpeg', 'name': 'Threonine'},\n",
    "    'tryptophan': {'letter': 'W', 'image': 'tryptophan.jpeg', 'name': 'Tryptophan'},\n",
    "    'tyrosine': {'letter': 'Y', 'image': 'tyrosine.jpeg', 'name': 'Tryosine'},\n",
    "    'valine': {'letter': 'V', 'image': 'valine.jpeg','name': 'Valine'}\n",
    "} "
   ]
  },
  {
   "cell_type": "code",
   "execution_count": 62,
   "id": "97d238f3-7a26-48a8-9925-eddd70f6c502",
   "metadata": {
    "tags": []
   },
   "outputs": [],
   "source": [
    "#Nathan Area: This is the code block where I will create the question that is asked (ie what is x amino acid) and have the multiple options laid out during each question.\n",
    "    #Katie's Realm\n",
    "#My role in this project will be to create a function that will randomize the answer choices and the order of the questions asked."
   ]
  },
  {
   "cell_type": "code",
   "execution_count": 63,
   "id": "782f8af9-66b4-4b3b-ada2-00a14201830b",
   "metadata": {},
   "outputs": [
    {
     "name": "stdout",
     "output_type": "stream",
     "text": [
      "3\n",
      "2\n",
      "1\n",
      "Go!\n"
     ]
    }
   ],
   "source": [
    "#Nathan Space\n",
    "# Begin quiz with countdown \n",
    "\n",
    "import time\n",
    "\n",
    "print(\"3\")\n",
    "time.sleep(1)\n",
    "print(\"2\")\n",
    "time.sleep(1)\n",
    "print(\"1\")\n",
    "time.sleep(1)\n",
    "\n",
    "print(\"Go!\")"
   ]
  },
  {
   "cell_type": "code",
   "execution_count": 64,
   "id": "50a8f32d-1719-4252-9c58-09be03b0c837",
   "metadata": {},
   "outputs": [],
   "source": [
    "# Nathan Space\n",
    "# Define a function to ask a question and get the user's answer\n",
    "def ask_question(question, answer):\n",
    "    user_answer = input(question + '\\n')\n",
    "    if user_answer.lower() == answer.lower():\n",
    "        print('Correct!')\n",
    "        return True\n",
    "    else:\n",
    "        print('Incorrect. The correct answer is', answer)\n",
    "        return False"
   ]
  },
  {
   "cell_type": "code",
   "execution_count": null,
   "id": "8f549dc1-767f-47d1-80be-a1cca562f963",
   "metadata": {
    "tags": []
   },
   "outputs": [
    {
     "name": "stdout",
     "output_type": "stream",
     "text": [
      "What is the name for the amino acid structure ?\n"
     ]
    }
   ],
   "source": [
    "#Devon's relocated domain\n",
    "# Define the quiz function\n",
    "def amino_acid_quiz():\n",
    "    score = 0\n",
    "    amino_acids_list = list(amino_acids.keys())\n",
    "    random.shuffle(amino_acids_list)\n",
    "    for amino_acid in amino_acids_list:\n",
    "        print('What is the name for the amino acid structure ?')\n",
    "        image_path = os.path.join(os.getcwd(), 'amino_acid_structures_jpeg', amino_acids[amino_acid]['image'])\n",
    "        image = Image.open(image_path)\n",
    "        image.show()\n",
    "        if ask_question('', amino_acids[amino_acid]['name']):\n",
    "            score+= 1 \n",
    "        elif amino_acid in amino_acids_list:\n",
    "            print('What is the one-letter code for the amino acid', amino_acid + '?')\n",
    "        if ask_question('', amino_acids[amino_acid]['letter']):\n",
    "            score += 1 \n",
    "        print()\n",
    "    print('Quiz complete. You scored', score, 'out of 40')\n",
    "# Trey's dopamine release\n",
    "# Outputs an .jpeg depending on score,
    "    if score == 40 :\n",
    "        gpoop = climage.convert('gpoop.jpeg')\n",
    "        print(gpoop)\n",
    "    elif score >= 35 :\n",
    "        sstar = climage.convert('sstar.jpeg')\n",
    "        print(sstar)\n",
    "    elif score >= 30 :\n",
    "        banna = climage.convert('banna.jpeg')\n",
    "        print(banna)\n",
    "    elif score >= 25 :\n",
    "        unicorn = climage.convert('unicorn.jpeg')\n",
    "        print(unicorn)\n",
    "    elif score >= 20 :\n",
    "        mhotdog = climage.convert('mhotdog.jpeg')\n",
    "        print(mhotdog)\n",
    "    elif score >= 15 :\n",
    "        monkey = climage.convert('monkey.jpeg')\n",
    "        print(monkey)\n",
    "    elif score >= 8 :\n",
    "        turtle = climage.convert('turtle.jpeg')\n",
    "        print(turtle)\n",
    "    elif score >= 3 :\n",
    "        poop = climage.convert('poop.jpeg')\n",
    "        print(poop)\n",
    "    elif score >= 0 :\n",
    "        shoosh = climage.convert('shoosh.jpeg')\n",
    "        print(shoosh)\n",
    "amino_acid_quiz()"
   ]
  },
  {
   "cell_type": "code",
   "execution_count": null,
   "id": "9c9fe1a3-e4fd-4ba9-ac53-e20f81f8ff75",
   "metadata": {},
   "outputs": [],
   "source": []
  }
 ],
 "metadata": {
  "kernelspec": {
   "display_name": "Python 3 (ipykernel)",
   "language": "python",
   "name": "python3"
  },
  "language_info": {
   "codemirror_mode": {
    "name": "ipython",
    "version": 3
   },
   "file_extension": ".py",
   "mimetype": "text/x-python",
   "name": "python",
   "nbconvert_exporter": "python",
   "pygments_lexer": "ipython3",
   "version": "3.11.0"
  }
 },
 "nbformat": 4,
 "nbformat_minor": 5
}
