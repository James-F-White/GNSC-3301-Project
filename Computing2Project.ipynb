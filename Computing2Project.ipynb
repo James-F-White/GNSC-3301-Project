{
 "cells": [
  {
   "cell_type": "code",
   "execution_count": 2,
   "id": "fe18c276-e967-4e00-aab6-de4d0dd8b8c5",
   "metadata": {},
   "outputs": [
    {
     "ename": "SyntaxError",
     "evalue": "invalid syntax (2790729704.py, line 1)",
     "output_type": "error",
     "traceback": [
      "\u001b[0;36m  Cell \u001b[0;32mIn[2], line 1\u001b[0;36m\u001b[0m\n\u001b[0;31m    Title: Amino Acid Quiz Project\u001b[0m\n\u001b[0m                 ^\u001b[0m\n\u001b[0;31mSyntaxError\u001b[0m\u001b[0;31m:\u001b[0m invalid syntax\n"
     ]
    }
   ],
   "source": [
    "Title: Amino Acid Quiz Project"
   ]
  },
  {
   "cell_type": "markdown",
   "id": "4f86027d-2d7e-416c-8378-8ef956204c86",
   "metadata": {},
   "source": []
  },
  {
   "cell_type": "code",
   "execution_count": null,
   "id": "9520157c-505d-45db-a5ea-0927f535cc73",
   "metadata": {},
   "outputs": [],
   "source": [
    "Devons Domain\n",
    "This is the code block where I will make the web interface where the person can interact with the quiz by clicking correct or incorrect answers."
   ]
  },
  {
   "cell_type": "code",
   "execution_count": 3,
   "id": "2e817605-e76b-498c-95ec-69c17b3836e0",
   "metadata": {
    "tags": []
   },
   "outputs": [
    {
     "name": "stderr",
     "output_type": "stream",
     "text": [
      "Exception in Tkinter callback\n",
      "Traceback (most recent call last):\n",
      "  File \"/Users/devonmack/opt/miniconda3/envs/python/lib/python3.11/tkinter/__init__.py\", line 1948, in __call__\n",
      "    return self.func(*args)\n",
      "           ^^^^^^^^^^^^^^^^\n",
      "  File \"/var/folders/tk/pndw6c3j5zsdgdbtv3pddz3w0000gn/T/ipykernel_65227/501449617.py\", line 5, in myclick\n",
      "    mylable = Lable(root, text=\"Correct\")\n",
      "              ^^^^^\n",
      "NameError: name 'Lable' is not defined\n",
      "Exception in Tkinter callback\n",
      "Traceback (most recent call last):\n",
      "  File \"/Users/devonmack/opt/miniconda3/envs/python/lib/python3.11/tkinter/__init__.py\", line 1948, in __call__\n",
      "    return self.func(*args)\n",
      "           ^^^^^^^^^^^^^^^^\n",
      "  File \"/var/folders/tk/pndw6c3j5zsdgdbtv3pddz3w0000gn/T/ipykernel_65227/501449617.py\", line 5, in myclick\n",
      "    mylable = Lable(root, text=\"Correct\")\n",
      "              ^^^^^\n",
      "NameError: name 'Lable' is not defined\n"
     ]
    }
   ],
   "source": [
    "from tkinter import *\n",
    "root = Tk()\n",
    "\n",
    "def myclick():\n",
    "    mylable = Lable(root, text=\"Correct\")\n",
    "    mylable.pack()\n",
    "    \n",
    "myButton = Button(root, text=\"Lysine\", padx=30,pady=20, command=myclick)\n",
    "myButton.pack()\n",
    "root.mainloop()\n",
    "\n",
    "from tkinter import *\n",
    "root = Tk()\n",
    "root.geometry('500x500')\n",
    "def showcorrect():\n",
    "    print('Correct')\n",
    "button = Button(root,text=\"Lysine\",padx=30,pady=20)\n",
    "button.pack()\n",
    "root.mainloop()"
   ]
  },
  {
   "cell_type": "code",
   "execution_count": null,
   "id": "797d306d-026a-4d30-8398-82058d865ad9",
   "metadata": {},
   "outputs": [],
   "source": [
    "Devon made this to recommit his work"
   ]
  },
  {
   "cell_type": "code",
   "execution_count": 4,
   "id": "1da876c8-9d28-49fe-ad2b-35804edcd40e",
   "metadata": {
    "tags": []
   },
   "outputs": [
    {
     "name": "stderr",
     "output_type": "stream",
     "text": [
      "Exception in Tkinter callback\n",
      "Traceback (most recent call last):\n",
      "  File \"/Users/devonmack/opt/miniconda3/envs/python/lib/python3.11/tkinter/__init__.py\", line 1948, in __call__\n",
      "    return self.func(*args)\n",
      "           ^^^^^^^^^^^^^^^^\n",
      "  File \"/var/folders/tk/pndw6c3j5zsdgdbtv3pddz3w0000gn/T/ipykernel_65227/501449617.py\", line 5, in myclick\n",
      "    mylable = Lable(root, text=\"Correct\")\n",
      "              ^^^^^\n",
      "NameError: name 'Lable' is not defined\n"
     ]
    }
   ],
   "source": [
    "from tkinter import *\n",
    "root = Tk()\n",
    "\n",
    "def myclick():\n",
    "    mylable = Lable(root, text=\"Correct\")\n",
    "    mylable.pack()\n",
    "    \n",
    "myButton = Button(root, text=\"Lysine\", padx=30,pady=20, command=myclick)\n",
    "myButton.pack()\n",
    "root.mainloop()\n",
    "\n",
    "from tkinter import *\n",
    "root = Tk()\n",
    "root.geometry('500x500')\n",
    "def showcorrect():\n",
    "    print('Correct')\n",
    "button = Button(root,text=\"Lysine\",padx=30,pady=20)\n",
    "button.pack()\n",
    "root.mainloop()"
   ]
  },
  {
   "cell_type": "code",
   "execution_count": null,
   "id": "cec2e1bc-bed1-4672-ba6d-dfb602380aea",
   "metadata": {},
   "outputs": [],
   "source": [
    "Trey's space\n",
    "    My (Trey) responsibility for our group project will to create the Amino Acid dictionary containg the names and corresponding imagines for them."
   ]
  },
  {
   "cell_type": "code",
   "execution_count": null,
   "id": "d1e67ebd-3b81-4f79-868f-55a2ab1b7417",
   "metadata": {},
   "outputs": [],
   "source": [
    "# Trey's Space\n",
    "# code block for the Amino Acid dictionary\n",
    "# using already established quizs as "
   ]
  },
  {
   "cell_type": "code",
   "execution_count": null,
   "id": "97d238f3-7a26-48a8-9925-eddd70f6c502",
   "metadata": {
    "tags": []
   },
   "outputs": [],
   "source": [
    "Nathan Area: This is the code block where I will create the question that is asked (ie what is x amino acid) and have the multiple options laid out during each question.\n",
    "  Katie's Realm\n",
    "My role in this project will be to create a function that will randomize the answer choices and the order of the questions asked."
   ]
  },
  {
   "cell_type": "code",
   "execution_count": null,
   "id": "50a8f32d-1719-4252-9c58-09be03b0c837",
   "metadata": {},
   "outputs": [],
   "source": [
    "# Nathan Space\n",
    "# will be a code block for the code behind the quiz\n"
   ]
  }
 ],
 "metadata": {
  "kernelspec": {
   "display_name": "Python 3 (ipykernel)",
   "language": "python",
   "name": "python3"
  },
  "language_info": {
   "codemirror_mode": {
    "name": "ipython",
    "version": 3
   },
   "file_extension": ".py",
   "mimetype": "text/x-python",
   "name": "python",
   "nbconvert_exporter": "python",
   "pygments_lexer": "ipython3",
   "version": "3.11.0"
  }
 },
 "nbformat": 4,
 "nbformat_minor": 5
}
