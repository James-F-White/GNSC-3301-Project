{
 "cells": [
  {
   "cell_type": "code",
   "execution_count": 2,
   "id": "fe18c276-e967-4e00-aab6-de4d0dd8b8c5",
   "metadata": {},
   "outputs": [
    {
     "ename": "SyntaxError",
     "evalue": "invalid syntax (2790729704.py, line 1)",
     "output_type": "error",
     "traceback": [
      "\u001b[0;36m  Cell \u001b[0;32mIn[2], line 1\u001b[0;36m\u001b[0m\n\u001b[0;31m    Title: Amino Acid Quiz Project\u001b[0m\n\u001b[0m                 ^\u001b[0m\n\u001b[0;31mSyntaxError\u001b[0m\u001b[0;31m:\u001b[0m invalid syntax\n"
     ]
    }
   ],
   "source": [
    "Title: Amino Acid Quiz Project"
   ]
  },
  {
   "cell_type": "markdown",
   "id": "4f86027d-2d7e-416c-8378-8ef956204c86",
   "metadata": {},
   "source": []
  },
  {
   "cell_type": "code",
   "execution_count": null,
   "id": "9520157c-505d-45db-a5ea-0927f535cc73",
   "metadata": {},
   "outputs": [],
   "source": [
    "Devons Domain\n",
    "This is the code block where I will make the web interface where the person can interact with the quiz by clicking correct or incorrect answers."
   ]
  },
  {
   "cell_type": "code",
   "execution_count": 3,
   "id": "2e817605-e76b-498c-95ec-69c17b3836e0",
   "metadata": {
    "tags": []
   },
   "outputs": [
    {
     "name": "stderr",
     "output_type": "stream",
     "text": [
      "Exception in Tkinter callback\n",
      "Traceback (most recent call last):\n",
      "  File \"/Users/devonmack/opt/miniconda3/envs/python/lib/python3.11/tkinter/__init__.py\", line 1948, in __call__\n",
      "    return self.func(*args)\n",
      "           ^^^^^^^^^^^^^^^^\n",
      "  File \"/var/folders/tk/pndw6c3j5zsdgdbtv3pddz3w0000gn/T/ipykernel_65227/501449617.py\", line 5, in myclick\n",
      "    mylable = Lable(root, text=\"Correct\")\n",
      "              ^^^^^\n",
      "NameError: name 'Lable' is not defined\n",
      "Exception in Tkinter callback\n",
      "Traceback (most recent call last):\n",
      "  File \"/Users/devonmack/opt/miniconda3/envs/python/lib/python3.11/tkinter/__init__.py\", line 1948, in __call__\n",
      "    return self.func(*args)\n",
      "           ^^^^^^^^^^^^^^^^\n",
      "  File \"/var/folders/tk/pndw6c3j5zsdgdbtv3pddz3w0000gn/T/ipykernel_65227/501449617.py\", line 5, in myclick\n",
      "    mylable = Lable(root, text=\"Correct\")\n",
      "              ^^^^^\n",
      "NameError: name 'Lable' is not defined\n"
     ]
    }
   ],
   "source": [
    "from tkinter import *\n",
    "root = Tk()\n",
    "\n",
    "def myclick():\n",
    "    mylable = Lable(root, text=\"Correct\")\n",
    "    mylable.pack()\n",
    "    \n",
    "myButton = Button(root, text=\"Lysine\", padx=30,pady=20, command=myclick)\n",
    "myButton.pack()\n",
    "root.mainloop()\n",
    "\n",
    "from tkinter import *\n",
    "root = Tk()\n",
    "root.geometry('500x500')\n",
    "def showcorrect():\n",
    "    print('Correct')\n",
    "button = Button(root,text=\"Lysine\",padx=30,pady=20)\n",
    "button.pack()\n",
    "root.mainloop()"
   ]
  },
  {
   "cell_type": "code",
   "execution_count": null,
   "id": "cec2e1bc-bed1-4672-ba6d-dfb602380aea",
   "metadata": {},
   "outputs": [],
   "source": [
    "Trey's space\n",
    "    My (Trey) responsibili1ty for our group project will to create the Amino Acid dictionary containg the names and corresponding imagines for them."
   ]
  },
  {
   "cell_type": "code",
   "execution_count": null,
   "id": "d1e67ebd-3b81-4f79-868f-55a2ab1b7417",
   "metadata": {},
   "outputs": [],
   "source": [
    "# Trey's Space\n",
    "# Define a dictionary to store the amino acids and their images\n",
    "amino_acids = {\n",
    "    'alanine': {'letter': 'A', 'image': 'alanine.gif', 'name': 'Alanine'},\n",
    "    'arginine': {'letter': 'R', 'image': 'arginine.gif', 'name': 'Arginine'},\n",
    "    'asparagine': {'letter': 'N', 'image': 'asparagine.gif', 'name': 'Asparagine'},\n",
    "    'aspartic acid': {'letter': 'D', 'image': 'aspartic_acid.gif', 'name': 'Aspartic acid'},\n",
    "    'cysteine': {'letter': 'C', 'image': 'cysteine.gif', 'name': 'Cysteine'},\n",
    "    'glutamic acid': {'letter': 'E', 'image': 'glutamic_acid.gif', 'name': 'Glutamic acid'},\n",
    "    'glutamine': {'letter': 'Q', 'image': 'glutamine.gif', 'name': 'name': 'Glutamine'},\n",
    "    'glycine': {'letter': 'G', 'image': 'glycine.gif', 'name': 'Glycine'},\n",
    "    'histidine': {'letter': 'H', 'image': 'histidine.gif', 'name': 'Histidine'},\n",
    "    'isoleucine': {'letter': 'I', 'image': 'isoleucine.gif', 'name': 'Isoleucine'},\n",
    "    'leucine': {'letter': 'L', 'image': 'leucine.gif', 'name': 'Leucine'},\n",
    "    'lysine': {'letter': 'K', 'image': 'lysine.gif', 'name': 'Lysine'},\n",
    "    'methionine': {'letter': 'M', 'image': 'methionine.gif', 'name': 'Methionine'},\n",
    "    'phenylalanine': {'letter': 'F', 'image': 'phenylalanine.gif', 'name': 'Phenylalanine'},\n",
    "    'proline': {'letter': 'P', 'image': 'proline.gif', 'name': 'Proline'},\n",
    "    'serine': {'letter': 'S', 'image': 'serine.gif', 'name': 'Serine'},\n",
    "    'threonine': {'letter': 'T', 'image': 'threonine.gif', 'name': 'Threonine'},\n",
    "    'tryptophan': {'letter': 'W', 'image': 'tryptophan.gif', 'name': 'Tryptophan'},\n",
    "    'tyrosine': {'letter': 'Y', 'image': 'tyrosine.gif', 'name': 'Tryosine'},\n",
    "    'valine': {'letter': 'V', 'image': 'valine.gif','name': 'Valine'}\n",
    "}\n",
    "# using already established quizs as "
   ]
  },
  {
   "cell_type": "code",
   "execution_count": null,
   "id": "97d238f3-7a26-48a8-9925-eddd70f6c502",
   "metadata": {
    "tags": []
   },
   "outputs": [],
   "source": [
    "Nathan Area: This is the code block where I will create the question that is asked (ie what is x amino acid) and have the multiple options laid out during each question.\n",
    "    Katie's Realm\n",
    "My role in this project will be to create a function that will randomize the answer choices and the order of the questions asked."
   ]
  },
  {
   "cell_type": "code",
   "execution_count": null,
   "id": "50a8f32d-1719-4252-9c58-09be03b0c837",
   "metadata": {},
   "outputs": [],
   "source": [
    "# Nathan Space\n",
    "# Define a function to ask a question and get the user's answer\n",
    "def ask_question(question, answer):\n",
    "    user_answer = input(question + '\\n')\n",
    "    if user_answer.lower() == answer.lower():\n",
    "        print('Correct!')\n",
    "        return True\n",
    "    else:\n",
    "        print('Incorrect. The correct answer is', answer)\n",
    "        return False"
   ]
  }
 ],
 "metadata": {
  "kernelspec": {
   "display_name": "Python 3 (ipykernel)",
   "language": "python",
   "name": "python3"
  },
  "language_info": {
   "codemirror_mode": {
    "name": "ipython",
    "version": 3
   },
   "file_extension": ".py",
   "mimetype": "text/x-python",
   "name": "python",
   "nbconvert_exporter": "python",
   "pygments_lexer": "ipython3",
   "version": "3.11.0"
  }
 },
 "nbformat": 4,
 "nbformat_minor": 5
}
