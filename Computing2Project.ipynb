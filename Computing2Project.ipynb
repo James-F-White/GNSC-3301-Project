{
 "cells": [
  {
   "cell_type": "code",
   "execution_count": 10,
   "id": "fe18c276-e967-4e00-aab6-de4d0dd8b8c5",
   "metadata": {},
   "outputs": [],
   "source": [
    "#Title: Amino Acid Quiz Project"
   ]
  },
  {
   "cell_type": "code",
   "execution_count": 11,
   "id": "9520157c-505d-45db-a5ea-0927f535cc73",
   "metadata": {
    "tags": []
   },
   "outputs": [],
   "source": [
    "#Devons Domain\n",
    "#This is the code block where I will make the web interface where the person can interact with the quiz by clicking correct or incorrect answers."
   ]
  },
  {
   "cell_type": "code",
   "execution_count": 12,
   "id": "cec2e1bc-bed1-4672-ba6d-dfb602380aea",
   "metadata": {},
   "outputs": [],
   "source": [
    "#Trey's space\n",
    "    #My (Trey) responsibili1ty for our group project will to create the Amino Acid dictionary containg the names and corresponding imagines for them."
   ]
  },
  {
   "cell_type": "code",
   "execution_count": 13,
   "id": "2b17307d-5068-44f7-b42a-508215de6e8c",
   "metadata": {},
   "outputs": [],
   "source": [
    "from PIL import Image\n",
    "import os\n",
    "import random\n",
    "import climage"
   ]
  },
  {
   "cell_type": "code",
   "execution_count": 14,
   "id": "d1e67ebd-3b81-4f79-868f-55a2ab1b7417",
   "metadata": {},
   "outputs": [],
   "source": [
    "# Trey's Space\n",
    "# Define a dictionary to store the amino acids and their images\n",
    "amino_acids = {\n",
    "    'alanine': {'letter': 'A', 'image': 'alanine.gif', 'name': 'Alanine'},\n",
    "    'arginine': {'letter': 'R', 'image': 'arginine.gif', 'name': 'Arginine'},\n",
    "    'asparagine': {'letter': 'N', 'image': 'asparagine.gif', 'name': 'Asparagine'},\n",
    "    'aspartic acid': {'letter': 'D', 'image': 'aspartic_acid.gif', 'name': 'Aspartic acid'},\n",
    "    'cysteine': {'letter': 'C', 'image': 'cysteine.gif', 'name': 'Cysteine'},\n",
    "    'glutamic acid': {'letter': 'E', 'image': 'glutamic_acid.gif', 'name': 'Glutamic acid'},\n",
    "    'glutamine': {'letter': 'Q', 'image': 'glutamine.gif', 'name': 'Glutamine'},\n",
    "    'glycine': {'letter': 'G', 'image': 'glycine.gif', 'name': 'Glycine'},\n",
    "    'histidine': {'letter': 'H', 'image': 'histidine.gif', 'name': 'Histidine'},\n",
    "    'isoleucine': {'letter': 'I', 'image': 'isoleucine.gif', 'name': 'Isoleucine'},\n",
    "    'leucine': {'letter': 'L', 'image': 'leucine.gif', 'name': 'Leucine'},\n",
    "    'lysine': {'letter': 'K', 'image': 'lysine.gif', 'name': 'Lysine'},\n",
    "    'methionine': {'letter': 'M', 'image': 'methionine.gif', 'name': 'Methionine'},\n",
    "    'phenylalanine': {'letter': 'F', 'image': 'phenylalanine.gif', 'name': 'Phenylalanine'},\n",
    "    'proline': {'letter': 'P', 'image': 'proline.gif', 'name': 'Proline'},\n",
    "    'serine': {'letter': 'S', 'image': 'serine.gif', 'name': 'Serine'},\n",
    "    'threonine': {'letter': 'T', 'image': 'threonine.gif', 'name': 'Threonine'},\n",
    "    'tryptophan': {'letter': 'W', 'image': 'tryptophan.gif', 'name': 'Tryptophan'},\n",
    "    'tyrosine': {'letter': 'Y', 'image': 'tyrosine.gif', 'name': 'Tryosine'},\n",
    "    'valine': {'letter': 'V', 'image': 'valine.gif','name': 'Valine'}\n",
    "} "
   ]
  },
  {
   "cell_type": "code",
   "execution_count": 15,
   "id": "97d238f3-7a26-48a8-9925-eddd70f6c502",
   "metadata": {
    "tags": []
   },
   "outputs": [],
   "source": [
    "#Nathan Area: This is the code block where I will create the question that is asked (ie what is x amino acid) and have the multiple options laid out during each question.\n",
    "    #Katie's Realm\n",
    "#My role in this project will be to create a function that will randomize the answer choices and the order of the questions asked."
   ]
  },
  {
   "cell_type": "code",
   "execution_count": 16,
   "id": "782f8af9-66b4-4b3b-ada2-00a14201830b",
   "metadata": {},
   "outputs": [
    {
     "name": "stdout",
     "output_type": "stream",
     "text": [
      "3\n",
      "2\n",
      "1\n",
      "Go!\n"
     ]
    }
   ],
   "source": [
    "#Nathan Space\n",
    "# Begin quiz with countdown \n",
    "\n",
    "import time\n",
    "\n",
    "print(\"3\")\n",
    "time.sleep(1)\n",
    "print(\"2\")\n",
    "time.sleep(1)\n",
    "print(\"1\")\n",
    "time.sleep(1)\n",
    "\n",
    "print(\"Go!\")"
   ]
  },
  {
   "cell_type": "code",
   "execution_count": 17,
   "id": "50a8f32d-1719-4252-9c58-09be03b0c837",
   "metadata": {},
   "outputs": [],
   "source": [
    "# Nathan Space\n",
    "# Define a function to ask a question and get the user's answer\n",
    "def ask_question(question, answer):\n",
    "    user_answer = input(question + '\\n')\n",
    "    if user_answer.lower() == answer.lower():\n",
    "        print('Correct!')\n",
    "        return True\n",
    "    else:\n",
    "        print('Incorrect. The correct answer is', answer)\n",
    "        return False"
   ]
  },
  {
   "cell_type": "code",
   "execution_count": 18,
   "id": "8f549dc1-767f-47d1-80be-a1cca562f963",
   "metadata": {
    "tags": []
   },
   "outputs": [
    {
     "name": "stdout",
     "output_type": "stream",
     "text": [
      "What is the name for the amino acid structure ?\n"
     ]
    },
    {
     "ename": "KeyboardInterrupt",
     "evalue": "Interrupted by user",
     "output_type": "error",
     "traceback": [
      "\u001b[0;31m---------------------------------------------------------------------------\u001b[0m",
      "\u001b[0;31mKeyboardInterrupt\u001b[0m                         Traceback (most recent call last)",
      "Cell \u001b[0;32mIn[18], line 24\u001b[0m\n\u001b[1;32m     21\u001b[0m         \u001b[38;5;28mprint\u001b[39m()\n\u001b[1;32m     22\u001b[0m     \u001b[38;5;28mprint\u001b[39m(\u001b[38;5;124m'\u001b[39m\u001b[38;5;124mQuiz complete. You scored\u001b[39m\u001b[38;5;124m'\u001b[39m, score, \u001b[38;5;124m'\u001b[39m\u001b[38;5;124mout of\u001b[39m\u001b[38;5;124m'\u001b[39m, \u001b[38;5;28mlen\u001b[39m(amino_acids))\n\u001b[0;32m---> 24\u001b[0m \u001b[43mamino_acid_quiz\u001b[49m\u001b[43m(\u001b[49m\u001b[43m)\u001b[49m\n",
      "Cell \u001b[0;32mIn[18], line 12\u001b[0m, in \u001b[0;36mamino_acid_quiz\u001b[0;34m()\u001b[0m\n\u001b[1;32m     10\u001b[0m image \u001b[38;5;241m=\u001b[39m Image\u001b[38;5;241m.\u001b[39mopen(image_path)\n\u001b[1;32m     11\u001b[0m image\u001b[38;5;241m.\u001b[39mshow()\n\u001b[0;32m---> 12\u001b[0m \u001b[38;5;28;01mif\u001b[39;00m \u001b[43mask_question\u001b[49m\u001b[43m(\u001b[49m\u001b[38;5;124;43m'\u001b[39;49m\u001b[38;5;124;43m'\u001b[39;49m\u001b[43m,\u001b[49m\u001b[43m \u001b[49m\u001b[43mamino_acids\u001b[49m\u001b[43m[\u001b[49m\u001b[43mamino_acid\u001b[49m\u001b[43m]\u001b[49m\u001b[43m[\u001b[49m\u001b[38;5;124;43m'\u001b[39;49m\u001b[38;5;124;43mname\u001b[39;49m\u001b[38;5;124;43m'\u001b[39;49m\u001b[43m]\u001b[49m\u001b[43m)\u001b[49m:\n\u001b[1;32m     13\u001b[0m     score\u001b[38;5;241m+\u001b[39m\u001b[38;5;241m=\u001b[39m \u001b[38;5;241m1\u001b[39m \n\u001b[1;32m     14\u001b[0m \u001b[38;5;28;01melif\u001b[39;00m amino_acid \u001b[38;5;129;01min\u001b[39;00m amino_acids_list:\n",
      "Cell \u001b[0;32mIn[17], line 4\u001b[0m, in \u001b[0;36mask_question\u001b[0;34m(question, answer)\u001b[0m\n\u001b[1;32m      3\u001b[0m \u001b[38;5;28;01mdef\u001b[39;00m \u001b[38;5;21mask_question\u001b[39m(question, answer):\n\u001b[0;32m----> 4\u001b[0m     user_answer \u001b[38;5;241m=\u001b[39m \u001b[38;5;28;43minput\u001b[39;49m\u001b[43m(\u001b[49m\u001b[43mquestion\u001b[49m\u001b[43m \u001b[49m\u001b[38;5;241;43m+\u001b[39;49m\u001b[43m \u001b[49m\u001b[38;5;124;43m'\u001b[39;49m\u001b[38;5;130;43;01m\\n\u001b[39;49;00m\u001b[38;5;124;43m'\u001b[39;49m\u001b[43m)\u001b[49m\n\u001b[1;32m      5\u001b[0m     \u001b[38;5;28;01mif\u001b[39;00m user_answer\u001b[38;5;241m.\u001b[39mlower() \u001b[38;5;241m==\u001b[39m answer\u001b[38;5;241m.\u001b[39mlower():\n\u001b[1;32m      6\u001b[0m         \u001b[38;5;28mprint\u001b[39m(\u001b[38;5;124m'\u001b[39m\u001b[38;5;124mCorrect!\u001b[39m\u001b[38;5;124m'\u001b[39m)\n",
      "File \u001b[0;32m~/opt/anaconda3/envs/python/lib/python3.11/site-packages/ipykernel/kernelbase.py:1182\u001b[0m, in \u001b[0;36mKernel.raw_input\u001b[0;34m(self, prompt)\u001b[0m\n\u001b[1;32m   1180\u001b[0m     msg \u001b[38;5;241m=\u001b[39m \u001b[38;5;124m\"\u001b[39m\u001b[38;5;124mraw_input was called, but this frontend does not support input requests.\u001b[39m\u001b[38;5;124m\"\u001b[39m\n\u001b[1;32m   1181\u001b[0m     \u001b[38;5;28;01mraise\u001b[39;00m StdinNotImplementedError(msg)\n\u001b[0;32m-> 1182\u001b[0m \u001b[38;5;28;01mreturn\u001b[39;00m \u001b[38;5;28;43mself\u001b[39;49m\u001b[38;5;241;43m.\u001b[39;49m\u001b[43m_input_request\u001b[49m\u001b[43m(\u001b[49m\n\u001b[1;32m   1183\u001b[0m \u001b[43m    \u001b[49m\u001b[38;5;28;43mstr\u001b[39;49m\u001b[43m(\u001b[49m\u001b[43mprompt\u001b[49m\u001b[43m)\u001b[49m\u001b[43m,\u001b[49m\n\u001b[1;32m   1184\u001b[0m \u001b[43m    \u001b[49m\u001b[38;5;28;43mself\u001b[39;49m\u001b[38;5;241;43m.\u001b[39;49m\u001b[43m_parent_ident\u001b[49m\u001b[43m[\u001b[49m\u001b[38;5;124;43m\"\u001b[39;49m\u001b[38;5;124;43mshell\u001b[39;49m\u001b[38;5;124;43m\"\u001b[39;49m\u001b[43m]\u001b[49m\u001b[43m,\u001b[49m\n\u001b[1;32m   1185\u001b[0m \u001b[43m    \u001b[49m\u001b[38;5;28;43mself\u001b[39;49m\u001b[38;5;241;43m.\u001b[39;49m\u001b[43mget_parent\u001b[49m\u001b[43m(\u001b[49m\u001b[38;5;124;43m\"\u001b[39;49m\u001b[38;5;124;43mshell\u001b[39;49m\u001b[38;5;124;43m\"\u001b[39;49m\u001b[43m)\u001b[49m\u001b[43m,\u001b[49m\n\u001b[1;32m   1186\u001b[0m \u001b[43m    \u001b[49m\u001b[43mpassword\u001b[49m\u001b[38;5;241;43m=\u001b[39;49m\u001b[38;5;28;43;01mFalse\u001b[39;49;00m\u001b[43m,\u001b[49m\n\u001b[1;32m   1187\u001b[0m \u001b[43m\u001b[49m\u001b[43m)\u001b[49m\n",
      "File \u001b[0;32m~/opt/anaconda3/envs/python/lib/python3.11/site-packages/ipykernel/kernelbase.py:1225\u001b[0m, in \u001b[0;36mKernel._input_request\u001b[0;34m(self, prompt, ident, parent, password)\u001b[0m\n\u001b[1;32m   1222\u001b[0m \u001b[38;5;28;01mexcept\u001b[39;00m \u001b[38;5;167;01mKeyboardInterrupt\u001b[39;00m:\n\u001b[1;32m   1223\u001b[0m     \u001b[38;5;66;03m# re-raise KeyboardInterrupt, to truncate traceback\u001b[39;00m\n\u001b[1;32m   1224\u001b[0m     msg \u001b[38;5;241m=\u001b[39m \u001b[38;5;124m\"\u001b[39m\u001b[38;5;124mInterrupted by user\u001b[39m\u001b[38;5;124m\"\u001b[39m\n\u001b[0;32m-> 1225\u001b[0m     \u001b[38;5;28;01mraise\u001b[39;00m \u001b[38;5;167;01mKeyboardInterrupt\u001b[39;00m(msg) \u001b[38;5;28;01mfrom\u001b[39;00m \u001b[38;5;28mNone\u001b[39m\n\u001b[1;32m   1226\u001b[0m \u001b[38;5;28;01mexcept\u001b[39;00m \u001b[38;5;167;01mException\u001b[39;00m:\n\u001b[1;32m   1227\u001b[0m     \u001b[38;5;28mself\u001b[39m\u001b[38;5;241m.\u001b[39mlog\u001b[38;5;241m.\u001b[39mwarning(\u001b[38;5;124m\"\u001b[39m\u001b[38;5;124mInvalid Message:\u001b[39m\u001b[38;5;124m\"\u001b[39m, exc_info\u001b[38;5;241m=\u001b[39m\u001b[38;5;28;01mTrue\u001b[39;00m)\n",
      "\u001b[0;31mKeyboardInterrupt\u001b[0m: Interrupted by user"
     ]
    }
   ],
   "source": [
    "#Devon's relocated domain\n",
    "# Define the quiz function\n",
    "def amino_acid_quiz():\n",
    "    score = 0\n",
    "    amino_acids_list = list(amino_acids.keys())\n",
    "    random.shuffle(amino_acids_list)\n",
    "    for amino_acid in amino_acids_list:\n",
    "        print('What is the name for the amino acid structure ?')\n",
    "        image_path = os.path.join(os.getcwd(), 'amino_acid_structures', amino_acids[amino_acid]['image'])\n",
    "        image = Image.open(image_path)\n",
    "        image.show()\n",
    "        if ask_question('', amino_acids[amino_acid]['name']):\n",
    "            score+= 1 \n",
    "        elif amino_acid in amino_acids_list:\n",
    "            print('What is the one-letter code for the amino acid', amino_acid + '?')\n",
    "        image_path = os.path.join(os.getcwd(), 'amino_acid_structures', amino_acids[amino_acid]['image'])\n",
    "        image = Image.open(image_path)\n",
    "        image.show()\n",
    "        if ask_question('', amino_acids[amino_acid]['letter']):\n",
    "            score += 1 \n",
    "        print()\n",
    "    print('Quiz complete. You scored', score, 'out of)\n",
    "# Trey's dopamine release\n",
    "    if score == 40 :\n",
    "        gpoop = climage.convert('gpoop.jpeg')\n",
    "        print(gpoop)\n",
    "    elif score >= 35 :\n",
    "        sstar = climage.convert('sstar.jpeg')\n",
    "        print(sstar)\n",
    "    elif score >= 30 :\n",
    "        banna = climage.convert('banna.jpeg')\n",
    "        print(banna)\n",
    "    elif score >= 25 :\n",
    "        unicorn = climage.convert('unicorn.jpeg')\n",
    "        print(unicorn)\n",
    "    elif score >= 20 :\n",
    "        mhotdog = climage.convert('mhotdog.jpeg')\n",
    "        print(mhotdog)\n",
    "    elif score >= 15 :\n",
    "        monkey = climage.convert('monkey.jpeg')\n",
    "        print(monkey)\n",
    "    elif score >= 8 :\n",
    "        turtle = climage.convert('turtle.jpeg')\n",
    "        print(turtle)\n",
    "    elif score >= 3 :\n",
    "        poop = climage.convert('poop.jpeg')\n",
    "        print(poop)\n",
    "    elif score == 0 :\n",
    "        shoosh = climage.convert('shoosh.jpeg')\n",
    "        print(shoosh)\n",
    "amino_acid_quiz()"
   ]
  },
  {
   "cell_type": "code",
   "execution_count": null,
   "id": "9c9fe1a3-e4fd-4ba9-ac53-e20f81f8ff75",
   "metadata": {},
   "outputs": [],
   "source": []
  }
 ],
 "metadata": {
  "kernelspec": {
   "display_name": "Python 3 (ipykernel)",
   "language": "python",
   "name": "python3"
  },
  "language_info": {
   "codemirror_mode": {
    "name": "ipython",
    "version": 3
   },
   "file_extension": ".py",
   "mimetype": "text/x-python",
   "name": "python",
   "nbconvert_exporter": "python",
   "pygments_lexer": "ipython3",
   "version": "3.11.0"
  }
 },
 "nbformat": 4,
 "nbformat_minor": 5
}
