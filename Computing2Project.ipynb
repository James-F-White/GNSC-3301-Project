{
 "cells": [
  {
   "cell_type": "code",
   "execution_count": null,
   "id": "fe18c276-e967-4e00-aab6-de4d0dd8b8c5",
   "metadata": {},
   "outputs": [],
   "source": [
    "Title: Amino Acid Quiz Project"
   ]
  },
  {
   "cell_type": "markdown",
   "id": "4f86027d-2d7e-416c-8378-8ef956204c86",
   "metadata": {},
   "source": []
  },
  {
   "cell_type": "code",
   "execution_count": null,
   "id": "c4fed636-8651-4a98-a935-3894bc7a732d",
   "metadata": {},
   "outputs": [],
   "source": [
    "Devons Domain"
   ]
  },
  {
   "cell_type": "markdown",
   "id": "0fe48228-20bc-4009-a1b5-2bdf2b29bdfa",
   "metadata": {},
   "source": [
    "Trey's space\n",
    "    My (Trey) responsibility for our group project will to create the Amino Acid dictionary containg the names and corresponding imagines for them."
   ]
  },
  {
   "cell_type": "code",
   "execution_count": null,
   "id": "57908431-5489-43f6-8cab-eedf9507b608",
   "metadata": {},
   "outputs": [],
   "source": [
    "# Trey's Space\n",
    "# code block for the Amino Acid dictionary\n"
   ]
  },
  {
   "cell_type": "code",
   "execution_count": null,
   "id": "97d238f3-7a26-48a8-9925-eddd70f6c502",
   "metadata": {},
   "outputs": [],
   "source": []
  }
 ],
 "metadata": {
  "kernelspec": {
   "display_name": "Python 3 (ipykernel)",
   "language": "python",
   "name": "python3"
  },
  "language_info": {
   "codemirror_mode": {
    "name": "ipython",
    "version": 3
   },
   "file_extension": ".py",
   "mimetype": "text/x-python",
   "name": "python",
   "nbconvert_exporter": "python",
   "pygments_lexer": "ipython3",
   "version": "3.11.0"
  }
 },
 "nbformat": 4,
 "nbformat_minor": 5
}
