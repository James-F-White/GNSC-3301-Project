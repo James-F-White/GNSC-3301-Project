{
 "cells": [
  {
   "cell_type": "code",
   "execution_count": null,
   "id": "ca7e7cd7-863e-45c9-b703-801f2cf2ac8d",
   "metadata": {},
   "outputs": [],
   "source": []
  }
 ],
 "metadata": {
  "kernelspec": {
   "display_name": "Python 3 (ipykernel)",
   "language": "python",
   "name": "python3"
  },
  "language_info": {
   "codemirror_mode": {
    "name": "ipython",
    "version": 3
   },
   "file_extension": ".py",
   "mimetype": "text/x-python",
   "name": "python",
   "nbconvert_exporter": "python",
   "pygments_lexer": "ipython3",
   "version": "3.11.0"
  }
 },
 "nbformat": 4,
 "nbformat_minor": 5
}

Print ("Will focus on HTML code for interface of quizlet")
